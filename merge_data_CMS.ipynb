{
 "cells": [
  {
   "cell_type": "code",
   "execution_count": 60,
   "metadata": {},
   "outputs": [],
   "source": [
    "from fileinput import filename\n",
    "import pandas as pd\n",
    "import os\n",
    "import glob\n",
    "import re\n",
    "\n",
    "# Função para extrair número e complemento\n",
    "# Função para extrair número e complemento corretamente\n",
    "def extract_number_and_complement(endereco):\n",
    "    if not isinstance(endereco, str):\n",
    "        return None, None, None\n",
    "    \n",
    "    # Captura número da casa (1 a 5 dígitos isolados)\n",
    "    numero = re.search(r'\\b(\\d{1,5})\\b', endereco)\n",
    "    numero = numero.group(1) if numero else None\n",
    "    \n",
    "    # Captura complementos válidos\n",
    "    complemento = re.search(r'(?i)\\b(AND\\s*\\d+|Apt[o]?\\s*\\d+|Ap\\s*\\d+|Sala?\\s*\\d+|Sal\\s*\\d+|SL\\s*\\d+)\\b', endereco)\n",
    "    complemento = complemento.group(0).strip() if complemento else None\n",
    "    \n",
    "    # Remove número e complemento do endereço\n",
    "    endereco_limpo = re.sub(r'\\b\\d{1,5}\\b', '', endereco)  # Remove número\n",
    "    if complemento:\n",
    "        endereco_limpo = re.sub(re.escape(complemento), '', endereco_limpo, flags=re.IGNORECASE)\n",
    "    \n",
    "    # Limpa espaços e pontuações extras\n",
    "    endereco_limpo = re.sub(r'[^\\w\\s]', '', endereco_limpo).strip()\n",
    "    \n",
    "    return numero, complemento, endereco_limpo\n",
    "\n",
    "path = 'C:\\\\Users\\\\edinocencio\\\\DataClenupCmsCrm\\\\DataSources\\\\'\n",
    "file_name = 'PMD-CMS.xlsx'\n",
    "full_file_name = path + file_name\n",
    "sheet_name = 'after synch'\n",
    "\n",
    "df_master = pd.read_excel(full_file_name, sheet_name=sheet_name)\n",
    "\n",
    "HEADERS = df_master.iloc[0, :].tolist()\n",
    "\n",
    "df_master.columns = HEADERS\n",
    "df_master = df_master.iloc[1:,0:13]"
   ]
  },
  {
   "cell_type": "code",
   "execution_count": 64,
   "metadata": {},
   "outputs": [],
   "source": [
    "df_master[['Numero', 'Complemento', 'LesseeStreet']] = df_master['LesseeStreet'].apply(\n",
    "    lambda x: pd.Series(extract_number_and_complement(x))\n",
    ")"
   ]
  },
  {
   "cell_type": "code",
   "execution_count": 71,
   "metadata": {},
   "outputs": [],
   "source": [
    "COLUMNS = [\n",
    "    'CompanyNumber', 'Branch', \n",
    "    'ContractNumber', 'Bearbeitungsstand', \n",
    "    'Rueckstand', 'LesseeStreet','Numero', \n",
    "    'Complemento','LesseePostCode', 'LesseeCity',\n",
    "    'LesseCountry', 'LesseeCounty',\n",
    "    'LesseeState', 'LesseeName']\n",
    "\n",
    "df_master = df_master.loc[:,COLUMNS]"
   ]
  },
  {
   "cell_type": "code",
   "execution_count": 73,
   "metadata": {},
   "outputs": [],
   "source": [
    "DE_PARA_CEPS = pd.read_excel(full_file_name, sheet_name='CEPS')"
   ]
  },
  {
   "cell_type": "code",
   "execution_count": 79,
   "metadata": {},
   "outputs": [
    {
     "data": {
      "text/html": [
       "<div>\n",
       "<style scoped>\n",
       "    .dataframe tbody tr th:only-of-type {\n",
       "        vertical-align: middle;\n",
       "    }\n",
       "\n",
       "    .dataframe tbody tr th {\n",
       "        vertical-align: top;\n",
       "    }\n",
       "\n",
       "    .dataframe thead th {\n",
       "        text-align: right;\n",
       "    }\n",
       "</style>\n",
       "<table border=\"1\" class=\"dataframe\">\n",
       "  <thead>\n",
       "    <tr style=\"text-align: right;\">\n",
       "      <th></th>\n",
       "      <th>CEP_OLD</th>\n",
       "      <th>NUM_CARACT_OLD</th>\n",
       "      <th>CEP_NEW</th>\n",
       "      <th>NUM_CARACT_NEW</th>\n",
       "    </tr>\n",
       "  </thead>\n",
       "  <tbody>\n",
       "    <tr>\n",
       "      <th>0</th>\n",
       "      <td>01331-010</td>\n",
       "      <td>9</td>\n",
       "      <td>01331-010</td>\n",
       "      <td>9</td>\n",
       "    </tr>\n",
       "    <tr>\n",
       "      <th>1</th>\n",
       "      <td>74250-010</td>\n",
       "      <td>9</td>\n",
       "      <td>74250-010</td>\n",
       "      <td>9</td>\n",
       "    </tr>\n",
       "    <tr>\n",
       "      <th>2</th>\n",
       "      <td>86990-000</td>\n",
       "      <td>9</td>\n",
       "      <td>86990-000</td>\n",
       "      <td>9</td>\n",
       "    </tr>\n",
       "    <tr>\n",
       "      <th>3</th>\n",
       "      <td>66093-180</td>\n",
       "      <td>9</td>\n",
       "      <td>66093-180</td>\n",
       "      <td>9</td>\n",
       "    </tr>\n",
       "    <tr>\n",
       "      <th>4</th>\n",
       "      <td>04530-001</td>\n",
       "      <td>9</td>\n",
       "      <td>04530-001</td>\n",
       "      <td>9</td>\n",
       "    </tr>\n",
       "  </tbody>\n",
       "</table>\n",
       "</div>"
      ],
      "text/plain": [
       "     CEP_OLD  NUM_CARACT_OLD    CEP_NEW  NUM_CARACT_NEW\n",
       "0  01331-010               9  01331-010               9\n",
       "1  74250-010               9  74250-010               9\n",
       "2  86990-000               9  86990-000               9\n",
       "3  66093-180               9  66093-180               9\n",
       "4  04530-001               9  04530-001               9"
      ]
     },
     "execution_count": 79,
     "metadata": {},
     "output_type": "execute_result"
    }
   ],
   "source": [
    "DE_PARA_CEPS.head()"
   ]
  },
  {
   "cell_type": "code",
   "execution_count": 76,
   "metadata": {},
   "outputs": [],
   "source": [
    "df_master = df_master.merge(DE_PARA_CEPS,left_on='LesseePostCode',right_on='CEP_OLD',how='left')\n"
   ]
  },
  {
   "cell_type": "code",
   "execution_count": null,
   "metadata": {},
   "outputs": [],
   "source": [
    "COLUMNS = [\n",
    "    'CompanyNumber', 'Branch', \n",
    "    'ContractNumber', 'Bearbeitungsstand', \n",
    "    'Rueckstand', 'CEP_NEW','Numero', \n",
    "    'Complemento','LesseePostCode', 'LesseeCity',\n",
    "    'LesseCountry', 'LesseeCounty',\n",
    "    'LesseeState', 'LesseeName']\n",
    "\n",
    "df_master = df_master.loc[ : , COLUMNS ]"
   ]
  },
  {
   "cell_type": "code",
   "execution_count": null,
   "metadata": {},
   "outputs": [],
   "source": [
    "path = 'C:\\\\Users\\\\edinocencio\\\\DataClenupCmsCrm\\\\DataSources\\\\finalizados\\\\'\n",
    "file_name = 'base_cep_consolidada.xlsx'\n",
    "\n",
    "full_file_name = path + file_name\n",
    "BASE_CEP_API = pd.read_excel(full_file_name)"
   ]
  },
  {
   "cell_type": "code",
   "execution_count": 86,
   "metadata": {},
   "outputs": [],
   "source": [
    "COLUMNS = [\n",
    "    'cep_validado', 'logradouro',\n",
    "    'bairro', 'cidade', 'uf', 'Estado'\n",
    "]\n",
    "\n",
    "BASE_CEP_API = BASE_CEP_API.loc[ : , COLUMNS ]"
   ]
  },
  {
   "cell_type": "code",
   "execution_count": 88,
   "metadata": {},
   "outputs": [],
   "source": [
    "df_master = df_master.merge(BASE_CEP_API, how='left', left_on='CEP_NEW', right_on='cep_validado')"
   ]
  },
  {
   "cell_type": "code",
   "execution_count": 91,
   "metadata": {},
   "outputs": [],
   "source": [
    "COLUMNS = [\n",
    "    'CompanyNumber', 'LesseeName','Branch',\n",
    "    'ContractNumber', 'Bearbeitungsstand',\n",
    "    'Rueckstand', 'CEP_NEW', 'logradouro',\n",
    "    'Numero', 'Complemento', 'bairro', 'cidade',\n",
    "    'uf', 'Estado'\n",
    "]\n",
    "df_master = df_master.loc[ : , COLUMNS ]"
   ]
  },
  {
   "cell_type": "code",
   "execution_count": null,
   "metadata": {},
   "outputs": [],
   "source": [
    "df_master"
   ]
  },
  {
   "cell_type": "code",
   "execution_count": 93,
   "metadata": {},
   "outputs": [],
   "source": [
    "path = 'C:\\\\Users\\\\edinocencio\\\\DataClenupCmsCrm\\\\DataSources\\\\finalizados\\\\'\n",
    "file_name = 'enderecos_processados.xlsx'\n",
    "full_file_name = path + file_name\n",
    "\n",
    "df_master.to_excel(full_file_name, index=False)"
   ]
  }
 ],
 "metadata": {
  "kernelspec": {
   "display_name": "venv",
   "language": "python",
   "name": "python3"
  },
  "language_info": {
   "codemirror_mode": {
    "name": "ipython",
    "version": 3
   },
   "file_extension": ".py",
   "mimetype": "text/x-python",
   "name": "python",
   "nbconvert_exporter": "python",
   "pygments_lexer": "ipython3",
   "version": "3.11.9"
  }
 },
 "nbformat": 4,
 "nbformat_minor": 2
}
