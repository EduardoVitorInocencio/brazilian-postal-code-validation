{
 "cells": [
  {
   "cell_type": "code",
   "execution_count": 1,
   "metadata": {},
   "outputs": [
    {
     "name": "stdout",
     "output_type": "stream",
     "text": [
      "   PartnerID Acceptance Date Contract\n",
      "0          1      2024-12-01       C1\n",
      "3          3      2024-12-20       C4\n"
     ]
    }
   ],
   "source": [
    "import pandas as pd\n",
    "\n",
    "# Exemplo de DataFrame\n",
    "data = {\n",
    "    'PartnerID': [1, 1, 2, 3, 3, 3],\n",
    "    'Acceptance Date': ['2024-12-01', '2024-11-01', '2024-10-01', '2024-12-20', '2024-11-20', '2024-10-15'],\n",
    "    'Contract': ['C1', 'C2', 'C3', 'C4', 'C5', 'C6']\n",
    "}\n",
    "df = pd.DataFrame(data)\n",
    "\n",
    "# Converter a coluna de datas para o formato datetime\n",
    "df['Acceptance Date'] = pd.to_datetime(df['Acceptance Date'])\n",
    "\n",
    "# Identificar PartnerID duplicados\n",
    "duplicated_partner_ids = df[df.duplicated('PartnerID', keep=False)]\n",
    "\n",
    "# Obter o contrato com a data mais recente para cada PartnerID duplicado\n",
    "most_recent_contracts = duplicated_partner_ids.loc[\n",
    "    duplicated_partner_ids.groupby('PartnerID')['Acceptance Date'].idxmax()\n",
    "]\n",
    "\n",
    "# Resultado final\n",
    "print(most_recent_contracts)\n"
   ]
  },
  {
   "cell_type": "code",
   "execution_count": 3,
   "metadata": {},
   "outputs": [
    {
     "data": {
      "text/plain": [
       "PartnerID\n",
       "1   2024-12-01\n",
       "3   2024-12-20\n",
       "Name: Acceptance Date, dtype: datetime64[ns]"
      ]
     },
     "execution_count": 3,
     "metadata": {},
     "output_type": "execute_result"
    }
   ],
   "source": [
    "duplicated_partner_ids.groupby('PartnerID')['Acceptance Date'].idxmax()\n"
   ]
  },
  {
   "cell_type": "code",
   "execution_count": 42,
   "metadata": {},
   "outputs": [],
   "source": [
    "path = 'C:\\\\Users\\\\edinocencio\\\\DataClenupCmsCrm\\\\DataSources\\\\'\n",
    "file_name = 'PMD-CMS.xlsx'\n",
    "full_file_name = path + file_name\n",
    "sheet_name = 'after synch'\n",
    "\n",
    "df_master = pd.read_excel(full_file_name, sheet_name=sheet_name)\n",
    "\n",
    "HEADERS = df_master.iloc[0, :].tolist()\n",
    "\n",
    "df_master.columns = HEADERS\n",
    "df_master = df_master.loc[1:,['PartnerID', 'Branch','ContractNumber']]\n",
    "\n",
    "df_master['CONTRACT'] = df_master['Branch'].astype(str) + \"-\" + df_master['ContractNumber'].astype(str)\n",
    "\n",
    "df_getinvoice = pd.read_excel('DataSources\\\\GetInvoice.xlsx')\n",
    "df_getinvoice = df_getinvoice[['B+C','Acceptance Date']]\n",
    "\n",
    "df_master = df_master.merge(df_getinvoice,left_on='CONTRACT', right_on='B+C', how='left')\n"
   ]
  },
  {
   "cell_type": "code",
   "execution_count": 44,
   "metadata": {},
   "outputs": [],
   "source": [
    "df_master['Acceptance Date'] = pd.to_datetime(df_master['Acceptance Date'])"
   ]
  },
  {
   "cell_type": "code",
   "execution_count": 45,
   "metadata": {},
   "outputs": [],
   "source": [
    "# Identificar PartnerID duplicados\n",
    "duplicated_partner_ids = df_master[\n",
    "    df_master.duplicated(subset='PartnerID', keep=False)]['PartnerID'].unique()"
   ]
  },
  {
   "cell_type": "code",
   "execution_count": 48,
   "metadata": {},
   "outputs": [],
   "source": [
    "# Criar DataFrame com PartnerIDs duplicados\n",
    "df_duplicated = df_master[df_master['PartnerID'].isin(duplicated_partner_ids)]\n"
   ]
  },
  {
   "cell_type": "code",
   "execution_count": 49,
   "metadata": {},
   "outputs": [],
   "source": [
    "# Identificar contratos mais recentes para PartnerIDs duplicados\n",
    "df_recent_contracts = df_duplicated.loc[\n",
    "    df_duplicated.groupby('PartnerID')['Acceptance Date'].idxmax()\n",
    "]"
   ]
  },
  {
   "cell_type": "code",
   "execution_count": 53,
   "metadata": {},
   "outputs": [
    {
     "name": "stdout",
     "output_type": "stream",
     "text": [
      "Os contratos mais recentes foram salvos em 'recent_contracts.xlsx'.\n",
      "Os PartnerIDs únicos foram salvos em 'unique_partner_ids.xlsx'.\n"
     ]
    }
   ],
   "source": [
    "# Criar DataFrame com PartnerIDs únicos\n",
    "df_unique = df_master[~df_master['PartnerID'].isin(duplicated_partner_ids)]\n",
    "\n",
    "# Salvar resultados em arquivos separados\n",
    "df_recent_contracts.to_excel('DataSources\\\\finalizados\\\\recent_contracts.xlsx', index=False)\n",
    "df_unique.to_excel('DataSources\\\\finalizados\\\\unique_partner_ids.xlsx', index=False)\n",
    "\n",
    "print(\"Os contratos mais recentes foram salvos em 'recent_contracts.xlsx'.\")\n",
    "print(\"Os PartnerIDs únicos foram salvos em 'unique_partner_ids.xlsx'.\")"
   ]
  }
 ],
 "metadata": {
  "kernelspec": {
   "display_name": "venv",
   "language": "python",
   "name": "python3"
  },
  "language_info": {
   "codemirror_mode": {
    "name": "ipython",
    "version": 3
   },
   "file_extension": ".py",
   "mimetype": "text/x-python",
   "name": "python",
   "nbconvert_exporter": "python",
   "pygments_lexer": "ipython3",
   "version": "3.11.9"
  }
 },
 "nbformat": 4,
 "nbformat_minor": 2
}
